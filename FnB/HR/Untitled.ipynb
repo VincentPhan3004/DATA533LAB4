{
 "cells": [
  {
   "cell_type": "code",
   "execution_count": 1,
   "metadata": {},
   "outputs": [],
   "source": [
    "\n",
    "class Staff:\n",
    "    def __init__(self, ID, name, title, supervisor, salary, entry_year, last_promotion_year, store_name):\n",
    "        self.ID = ID\n",
    "        self.name=name\n",
    "        self.title=title\n",
    "        self.supervisor=supervisor\n",
    "        self.salary=salary\n",
    "        self.entry_year=entry_year\n",
    "        self.last_promotion_year=last_promotion_year\n",
    "        self.store_name=store_name\n",
    "    def info(self):\n",
    "        print(\"ID: \", self.ID)\n",
    "        print(\"Name: \", self.name)\n",
    "        print(\"Title: \", self.title)\n",
    "        print(\"SupervisorID: \", self.supervisor)\n",
    "        print(\"Salary: \", self.salary) \n",
    "        print(\"Entry year: \", self.entry_year)\n",
    "        print(\"Last promotion year: \", self.last_promotion_year)\n",
    "        print(\"Store name: \", self.store_name)\n",
    "        print(\"\")\n",
    "\n",
    "class Manager(Staff):\n",
    "    def __init__(self, ID, name, title, supervisor, salary, entry_year, last_promotion_year, store_name, stafflist):\n",
    "        Staff.__init__(self, ID, name, title, supervisor, salary, entry_year, last_promotion_year, store_name)\n",
    "        self.stafflist=stafflist\n",
    "    def info(self):\n",
    "        Staff.info(self)\n",
    "        print(\"Staff list (ID): \", self.stafflist)\n"
   ]
  },
  {
   "cell_type": "code",
   "execution_count": 2,
   "metadata": {},
   "outputs": [],
   "source": [
    "p2 = Manager(42345, \"Tony\", \"Manager\", 23286, 50000, 2016, 2018, \"Tim Hortons\",[12345,56154])"
   ]
  },
  {
   "cell_type": "code",
   "execution_count": 3,
   "metadata": {},
   "outputs": [
    {
     "data": {
      "text/plain": [
       "42345"
      ]
     },
     "execution_count": 3,
     "metadata": {},
     "output_type": "execute_result"
    }
   ],
   "source": [
    "p2.ID"
   ]
  }
 ],
 "metadata": {
  "kernelspec": {
   "display_name": "Python 3",
   "language": "python",
   "name": "python3"
  },
  "language_info": {
   "codemirror_mode": {
    "name": "ipython",
    "version": 3
   },
   "file_extension": ".py",
   "mimetype": "text/x-python",
   "name": "python",
   "nbconvert_exporter": "python",
   "pygments_lexer": "ipython3",
   "version": "3.7.3"
  }
 },
 "nbformat": 4,
 "nbformat_minor": 2
}
