{
 "cells": [
  {
   "cell_type": "code",
   "execution_count": 2,
   "metadata": {},
   "outputs": [
    {
     "name": "stderr",
     "output_type": "stream",
     "text": [
      "test_promoteCheck (TestHRFunction.Test_HRFunction) ... ok\n",
      "test_serviceCheck (TestHRFunction.Test_HRFunction) ... ok\n",
      "test_Manager (TestStaffClass.Test_StaffClass) ... ok\n",
      "test_Staff (TestStaffClass.Test_StaffClass) ... ok\n",
      "\n",
      "----------------------------------------------------------------------\n",
      "Ran 4 tests in 0.003s\n",
      "\n",
      "OK\n",
      "test_compare (TestFnBFunction.Test_FnBFunction) ... ok\n",
      "test_serviceCheck (TestFnBFunction.Test_FnBFunction) ... ok\n",
      "test_promoteCheck (TestHRFunction.Test_HRFunction) ... ok\n",
      "test_serviceCheck (TestHRFunction.Test_HRFunction) ... ok\n",
      "test_Manager (TestStaffClass.Test_StaffClass) ... ok\n",
      "test_Staff (TestStaffClass.Test_StaffClass) ... ok\n",
      "\n",
      "----------------------------------------------------------------------\n",
      "Ran 6 tests in 0.004s\n",
      "\n",
      "OK\n",
      "........"
     ]
    },
    {
     "name": "stdout",
     "output_type": "stream",
     "text": [
      "Beginning Testing HRFunction Module\n",
      "Beginning a test case in HRFunction Module\n",
      "Finishing a test case in HRFunction Module\n",
      "Beginning a test case in HRFunction Module\n",
      "Finishing a test case in HRFunction Module\n",
      "Ending Testing for HRFunction Module\n",
      "Beginning StaffClass Testing\n",
      "Begin a test case in Test_StaffClass\n",
      "Finish a test case in Test_StaffClass\n",
      "Begin a test case in Test_StaffClass\n",
      "Finish a test case in Test_StaffClass\n",
      "Ending StaffClass Testing\n",
      "Beginning Testing FnBFunction Module\n",
      "Beginning a test case in FnBFunction Module\n",
      "Finishing a test case in FnBFunction Module\n",
      "Beginning a test case in FnBFunction Module\n",
      "Can not implement the process\n",
      "Can not implement the process\n",
      "Finishing a test case in FnBFunction Module\n",
      "Ending Testing for FnBFunction Module\n",
      "Beginning Testing HRFunction Module\n",
      "Beginning a test case in HRFunction Module\n",
      "Finishing a test case in HRFunction Module\n",
      "Beginning a test case in HRFunction Module\n",
      "Finishing a test case in HRFunction Module\n",
      "Ending Testing for HRFunction Module\n",
      "Beginning StaffClass Testing\n",
      "Begin a test case in Test_StaffClass\n",
      "Finish a test case in Test_StaffClass\n",
      "Begin a test case in Test_StaffClass\n",
      "Finish a test case in Test_StaffClass\n",
      "Ending StaffClass Testing\n",
      "Beginning Testing HRFunction Module\n",
      "Beginning a test case in HRFunction Module\n",
      "Finishing a test case in HRFunction Module\n",
      "Beginning a test case in HRFunction Module\n",
      "Finishing a test case in HRFunction Module\n",
      "Ending Testing for HRFunction Module\n",
      "Beginning StaffClass Testing\n",
      "Begin a test case in Test_StaffClass\n",
      "Finish a test case in Test_StaffClass\n",
      "Begin a test case in Test_StaffClass\n",
      "Finish a test case in Test_StaffClass\n",
      "Ending StaffClass Testing\n",
      "Beginning FnBClass Testing\n",
      "Begin a test case in Test_FnBClass\n",
      "Finish a test case in Test_FnBClass\n",
      "Begin a test case in Test_FnBClass\n",
      "Finish a test case in Test_FnBClass\n",
      "Ending FnBClass Testing\n",
      "Beginning Testing FnBFunction Module\n",
      "Beginning a test case in FnBFunction Module\n",
      "Finishing a test case in FnBFunction Module\n",
      "Beginning a test case in FnBFunction Module\n",
      "Can not implement the process\n",
      "Can not implement the process\n",
      "Finishing a test case in FnBFunction Module\n",
      "Ending Testing for FnBFunction Module\n",
      "<unittest.runner.TextTestResult run=8 errors=0 failures=0>\n"
     ]
    },
    {
     "name": "stderr",
     "output_type": "stream",
     "text": [
      "\n",
      "----------------------------------------------------------------------\n",
      "Ran 8 tests in 0.005s\n",
      "\n",
      "OK\n"
     ]
    }
   ],
   "source": [
    "import unittest\n",
    "from TestHRFunction import Test_HRFunction\n",
    "from TestStaffClass import Test_StaffClass\n",
    "from TestFnBFunction import Test_FnBFunction\n",
    "from TestFnBClass import Test_FnBClass\n",
    "\n",
    "def my_suite():\n",
    "    suite  = unittest.TestSuite()\n",
    "    result = unittest.TestResult()\n",
    "    suite.addTest(unittest.makeSuite(Test_HRFunction))\n",
    "    suite.addTest(unittest.makeSuite(Test_StaffClass))\n",
    "    suite.addTest(unittest.makeSuite(Test_FnBClass))\n",
    "    suite.addTest(unittest.makeSuite(Test_FnBFunction))\n",
    "    runner = unittest.TextTestRunner()\n",
    "    print(runner.run(suite))\n",
    "    \n",
    "my_suite()"
   ]
  },
  {
   "cell_type": "code",
   "execution_count": null,
   "metadata": {},
   "outputs": [],
   "source": []
  }
 ],
 "metadata": {
  "kernelspec": {
   "display_name": "Python 3",
   "language": "python",
   "name": "python3"
  },
  "language_info": {
   "codemirror_mode": {
    "name": "ipython",
    "version": 3
   },
   "file_extension": ".py",
   "mimetype": "text/x-python",
   "name": "python",
   "nbconvert_exporter": "python",
   "pygments_lexer": "ipython3",
   "version": "3.7.3"
  }
 },
 "nbformat": 4,
 "nbformat_minor": 2
}
