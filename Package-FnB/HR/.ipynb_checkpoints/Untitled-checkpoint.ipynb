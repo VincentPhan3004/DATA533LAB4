{
 "cells": [
  {
   "cell_type": "code",
   "execution_count": 3,
   "metadata": {},
   "outputs": [
    {
     "name": "stdout",
     "output_type": "stream",
     "text": [
      "Exception raised: 12\n"
     ]
    }
   ],
   "source": [
    "\n",
    "try:\n",
    "    raise(Error(6*2))\n",
    "except Error as ex:\n",
    "    print('Exception raised:',ex.value )"
   ]
  },
  {
   "cell_type": "code",
   "execution_count": 7,
   "metadata": {},
   "outputs": [
    {
     "ename": "AttributeError",
     "evalue": "'dict' object has no attribute 'append'",
     "output_type": "error",
     "traceback": [
      "\u001b[1;31m---------------------------------------------------------------------------\u001b[0m",
      "\u001b[1;31mAttributeError\u001b[0m                            Traceback (most recent call last)",
      "\u001b[1;32m<ipython-input-7-21c3c95982a6>\u001b[0m in \u001b[0;36m<module>\u001b[1;34m\u001b[0m\n\u001b[0;32m      4\u001b[0m \u001b[0mk\u001b[0m\u001b[1;33m=\u001b[0m\u001b[1;33m{\u001b[0m\u001b[1;33m}\u001b[0m\u001b[1;33m\u001b[0m\u001b[1;33m\u001b[0m\u001b[0m\n\u001b[0;32m      5\u001b[0m \u001b[0mt\u001b[0m\u001b[1;33m=\u001b[0m\u001b[1;33m[\u001b[0m\u001b[1;33m]\u001b[0m\u001b[1;33m\u001b[0m\u001b[1;33m\u001b[0m\u001b[0m\n\u001b[1;32m----> 6\u001b[1;33m \u001b[0mh\u001b[0m\u001b[1;33m=\u001b[0m\u001b[0mappend2\u001b[0m\u001b[1;33m(\u001b[0m\u001b[0mk\u001b[0m\u001b[1;33m,\u001b[0m\u001b[1;36m10\u001b[0m\u001b[1;33m)\u001b[0m\u001b[1;33m\u001b[0m\u001b[1;33m\u001b[0m\u001b[0m\n\u001b[0m\u001b[0;32m      7\u001b[0m \u001b[0mprint\u001b[0m\u001b[1;33m(\u001b[0m\u001b[0mh\u001b[0m\u001b[1;33m)\u001b[0m\u001b[1;33m\u001b[0m\u001b[1;33m\u001b[0m\u001b[0m\n",
      "\u001b[1;32m<ipython-input-7-21c3c95982a6>\u001b[0m in \u001b[0;36mappend2\u001b[1;34m(x, y)\u001b[0m\n\u001b[0;32m      1\u001b[0m \u001b[1;32mdef\u001b[0m \u001b[0mappend2\u001b[0m\u001b[1;33m(\u001b[0m\u001b[0mx\u001b[0m\u001b[1;33m,\u001b[0m\u001b[0my\u001b[0m\u001b[1;33m)\u001b[0m\u001b[1;33m:\u001b[0m\u001b[1;33m\u001b[0m\u001b[1;33m\u001b[0m\u001b[0m\n\u001b[1;32m----> 2\u001b[1;33m     \u001b[0mx\u001b[0m\u001b[1;33m.\u001b[0m\u001b[0mappend\u001b[0m\u001b[1;33m(\u001b[0m\u001b[0my\u001b[0m\u001b[1;33m)\u001b[0m\u001b[1;33m\u001b[0m\u001b[1;33m\u001b[0m\u001b[0m\n\u001b[0m\u001b[0;32m      3\u001b[0m     \u001b[1;32mreturn\u001b[0m \u001b[0mx\u001b[0m\u001b[1;33m\u001b[0m\u001b[1;33m\u001b[0m\u001b[0m\n\u001b[0;32m      4\u001b[0m \u001b[0mk\u001b[0m\u001b[1;33m=\u001b[0m\u001b[1;33m{\u001b[0m\u001b[1;33m}\u001b[0m\u001b[1;33m\u001b[0m\u001b[1;33m\u001b[0m\u001b[0m\n\u001b[0;32m      5\u001b[0m \u001b[0mt\u001b[0m\u001b[1;33m=\u001b[0m\u001b[1;33m[\u001b[0m\u001b[1;33m]\u001b[0m\u001b[1;33m\u001b[0m\u001b[1;33m\u001b[0m\u001b[0m\n",
      "\u001b[1;31mAttributeError\u001b[0m: 'dict' object has no attribute 'append'"
     ]
    }
   ],
   "source": [
    "def append2(x,y):\n",
    "    x.append(y)\n",
    "    return x\n",
    "k={}\n",
    "t=[]\n",
    "h=append2(k,10)\n",
    "print(h)"
   ]
  },
  {
   "cell_type": "code",
   "execution_count": 9,
   "metadata": {},
   "outputs": [],
   "source": [
    "import datetime\n",
    "class Staff:\n",
    "    def __init__(self, ID, name, title, supervisor, salary, entry_year, last_promotion_year, store_name):\n",
    "        self.ID = ID\n",
    "        self.name=name\n",
    "        self.title=title\n",
    "        self.supervisor=supervisor\n",
    "        self.salary=salary\n",
    "        self.entry_year=entry_year\n",
    "        self.last_promotion_year=last_promotion_year\n",
    "        self.store_name=store_name\n",
    "    def info(self):\n",
    "        print(\"ID: \", self.ID)\n",
    "        print(\"Name: \", self.name)\n",
    "        print(\"Title: \", self.title)\n",
    "        print(\"SupervisorID: \", self.supervisor)\n",
    "        print(\"Salary: \", self.salary) \n",
    "        print(\"Entry year: \", self.entry_year)\n",
    "        print(\"Last promotion year: \", self.last_promotion_year)\n",
    "        print(\"Store name: \", self.store_name)\n",
    "        print(\"\")\n",
    "        return 1\n",
    "\n",
    "class Manager(Staff):\n",
    "    def __init__(self, ID, name, title, supervisor, salary, entry_year, last_promotion_year, store_name, stafflist):\n",
    "        Staff.__init__(self, ID, name, title, supervisor, salary, entry_year, last_promotion_year, store_name)\n",
    "        self.stafflist=stafflist\n",
    "    def info(self):\n",
    "        Staff.info(self)\n",
    "        print(\"Staff list (ID): \", self.stafflist)\n",
    "        return 1\n"
   ]
  },
  {
   "cell_type": "code",
   "execution_count": 26,
   "metadata": {},
   "outputs": [],
   "source": [
    "class YearError(Exception):\n",
    "    def __init__(self, yearcheck): # Constructor or Initializer\n",
    "        self.year=yearcheck \n",
    "        \n",
    "class EmptyError(Exception):\n",
    "    pass\n",
    "\n",
    "class EntryError(Exception):\n",
    "    pass \n",
    "    \n",
    "    \n",
    "def promoteCheck(stafflist):\n",
    "    try:\n",
    "        if not stafflist:\n",
    "            raise(EmptyError())\n",
    "        promoteList = [] \n",
    "        now = datetime.datetime.now()\n",
    "        for i in stafflist:\n",
    "            if i.last_promotion_year > now.year:\n",
    "                raise(YearError(i.last_promotion_year))\n",
    "            if (now.year - i.last_promotion_year) >= 2:  # the promotion will be applied at the end of year only\n",
    "                promoteList.append(i.ID)\n",
    "        return promoteList\n",
    "    except AttributeError:\n",
    "        print(\"This is not a list of Staff instances.\")\n",
    "    except YearError as YE:\n",
    "        print(\"One staff has incorrect last_promotion_year:\",YE.year)\n",
    "    except EmptyError as EE:\n",
    "        print(\"The staff list is empty\")\n",
    "    except :\n",
    "        print(\"There is an error occured\")\n",
    "    finally:\n",
    "        print(\"This is the end of the command\") \n",
    "\n",
    "def serviceCheck(stafflist):\n",
    "    try:\n",
    "        now = datetime.datetime.now()\n",
    "        if not stafflist:\n",
    "            raise(EmptyError())\n",
    "        stafflistservice = []\n",
    "        yearmin = 10000\n",
    "        for i in stafflist:\n",
    "            if i.entry_year > now.year:\n",
    "                raise(EntryError())\n",
    "            if yearmin > i.entry_year:\n",
    "                yearmin = i.entry_year\n",
    "        for i in stafflist:\n",
    "            if yearmin == i.entry_year:\n",
    "                stafflistservice.append(i.ID)\n",
    "        return stafflistservice\n",
    "    except AttributeError:\n",
    "        print(\"This is not a list of Staff instances.\")\n",
    "    except EntryError as YE:\n",
    "        print(\"One staff has incorrect entry_year\")\n",
    "    except EmptyError as EE:\n",
    "        print(\"The staff list is empty\")\n",
    "    except :\n",
    "        print(\"There is an error occured\")\n",
    "    finally:\n",
    "        print(\"This is the end of the command\") "
   ]
  },
  {
   "cell_type": "code",
   "execution_count": null,
   "metadata": {},
   "outputs": [],
   "source": [
    "\n"
   ]
  },
  {
   "cell_type": "code",
   "execution_count": 30,
   "metadata": {},
   "outputs": [],
   "source": [
    "t1_wrong = Staff(12345, \"Jim\", \"Cashier\", 42345, 50000, 2020, 2020, \"Tim Hortons\")\n",
    "\n",
    "t2 = Manager(42345, \"Tony\", \"Manager\", 23286, 50000, 2018, 2018, \"Tim Hortons\",[12345,56154])\n",
    "t3 = Staff(32355, \"Eva\", \"Cashier\", 42345, 50000, 2015, 2016, \"Tim Hortons\")\n",
    "       "
   ]
  },
  {
   "cell_type": "code",
   "execution_count": 25,
   "metadata": {},
   "outputs": [
    {
     "name": "stdout",
     "output_type": "stream",
     "text": [
      "This is the end of the command\n"
     ]
    },
    {
     "data": {
      "text/plain": [
       "[32355]"
      ]
     },
     "execution_count": 25,
     "metadata": {},
     "output_type": "execute_result"
    }
   ],
   "source": [
    "v = [t2,t3]\n",
    "promoteCheck(v)\n",
    "serviceCheck(t1)"
   ]
  },
  {
   "cell_type": "code",
   "execution_count": 32,
   "metadata": {},
   "outputs": [
    {
     "name": "stdout",
     "output_type": "stream",
     "text": [
      "This is the end of the command\n"
     ]
    },
    {
     "data": {
      "text/plain": [
       "[32355]"
      ]
     },
     "execution_count": 32,
     "metadata": {},
     "output_type": "execute_result"
    }
   ],
   "source": [
    "serviceCheck(v)"
   ]
  },
  {
   "cell_type": "code",
   "execution_count": null,
   "metadata": {},
   "outputs": [],
   "source": []
  },
  {
   "cell_type": "code",
   "execution_count": 68,
   "metadata": {},
   "outputs": [],
   "source": [
    "#!/usr/bin/env python\n",
    "# coding: utf-8\n",
    "\n",
    "import datetime\n",
    "\n",
    "class InitError1(Exception):\n",
    "    pass\n",
    "\n",
    "class InitError2(Exception):\n",
    "    pass\n",
    "\n",
    "class Staff:\n",
    "    def __init__(self, ID, name, title, supervisor, salary, entry_year, last_promotion_year, store_name):\n",
    "        try:\n",
    "            now = datetime.datetime.now()\n",
    "            if entry_year > now.year:\n",
    "                raise(InitError1())\n",
    "            if last_promotion_year > entry_year:\n",
    "                raise(InitError2())\n",
    "            self.ID = ID\n",
    "            self.name=name\n",
    "            self.title=title\n",
    "            self.supervisor=supervisor\n",
    "            self.salary=salary\n",
    "            self.entry_year=entry_year\n",
    "            self.last_promotion_year=last_promotion_year\n",
    "            self.store_name=store_name\n",
    "        except InitError1:\n",
    "            print(\"The entry_year can not exceed current year\")\n",
    "        except InitError2:\n",
    "            print(\"The entry_year can not lower than last_promotion_year\")      \n",
    "    def info(self):\n",
    "        print(\"ID: \", self.ID)\n",
    "        print(\"Name: \", self.name)\n",
    "        print(\"Title: \", self.title)\n",
    "        print(\"SupervisorID: \", self.supervisor)\n",
    "        print(\"Salary: \", self.salary) \n",
    "        print(\"Entry year: \", self.entry_year)\n",
    "        print(\"Last promotion year: \", self.last_promotion_year)\n",
    "        print(\"Store name: \", self.store_name)\n",
    "        print(\"\")\n",
    "\n",
    "\n",
    "\n",
    "class Manager(Staff):\n",
    "    def __init__(self, ID, name, title, supervisor, salary, entry_year, last_promotion_year, store_name, stafflist):\n",
    "        Staff.__init__(self, ID, name, title, supervisor, salary, entry_year, last_promotion_year, store_name)\n",
    "        self.stafflist=stafflist\n",
    "    def info(self):\n",
    "        Staff.info(self)\n",
    "        print(\"Staff list (ID): \", self.stafflist)\n",
    "\n"
   ]
  },
  {
   "cell_type": "code",
   "execution_count": 60,
   "metadata": {},
   "outputs": [],
   "source": [
    "t3 = Staff(32355, \"Eva\", \"Cashier\", 42345, 50000, 2017, 2016, \"Tim Hortons\")"
   ]
  },
  {
   "cell_type": "code",
   "execution_count": 38,
   "metadata": {},
   "outputs": [
    {
     "name": "stdout",
     "output_type": "stream",
     "text": [
      "The entry_year can not exceed current year\n"
     ]
    }
   ],
   "source": [
    "t3_wrong = Staff(32355, \"Eva\", \"Cashier\", 42345, 50000, 2020, 2016, \"Tim Hortons\")"
   ]
  },
  {
   "cell_type": "code",
   "execution_count": 75,
   "metadata": {},
   "outputs": [
    {
     "name": "stdout",
     "output_type": "stream",
     "text": [
      "ID:  32355\n",
      "Name:  Eva\n",
      "Title:  Cashier\n",
      "SupervisorID:  42345\n",
      "Salary:  50000\n",
      "Entry year:  2017\n",
      "Last promotion year:  2016\n",
      "Store name:  Tim Hortons\n",
      "\n"
     ]
    }
   ],
   "source": [
    "t3.info() "
   ]
  },
  {
   "cell_type": "code",
   "execution_count": 81,
   "metadata": {},
   "outputs": [],
   "source": [
    "#!/usr/bin/env python\n",
    "# coding: utf-8\n",
    "\n",
    "# In[14]:\n",
    "\n",
    "\n",
    "import numpy as np\n",
    "import matplotlib.pyplot as plt\n",
    "\n",
    "\n",
    "\n",
    "def compare(FnB_A,FnB_B): #show a bar plot with the revenues of FnB business\n",
    "    try:\n",
    "        profitrateA = FnB_A.revenue/FnB_A.area\n",
    "        profitrateB = FnB_B.revenue/FnB_B.area\n",
    "        if profitrateA >= profitrateB:\n",
    "            return FnB_A\n",
    "        else:\n",
    "            return FnB_B\n",
    "    except ZeroDivisonError:\n",
    "        print(\" One of the restaurants has zero area\")\n",
    "    \n",
    "def staffTransfer(FnB_A,FnB_B,n): #transfer n staffs from group B to group A\n",
    "    if n > FnB_B.staffnum or n<0:\n",
    "        print(\"Can not implement the process\")\n",
    "        return False\n",
    "    else:\n",
    "       FnB_A.staffnum += n\n",
    "       FnB_B.staffnum -= n\n",
    "       return True\n",
    "\n",
    "    \n",
    "\n"
   ]
  },
  {
   "cell_type": "code",
   "execution_count": 82,
   "metadata": {},
   "outputs": [],
   "source": [
    "# In[24]:\n",
    "\n",
    "class ZeroStaff(Exception):\n",
    "    pass\n",
    "\n",
    "\n",
    "class FnB:\n",
    "    def __init__(self,address, area, revenue, staffnum):\n",
    "        try:\n",
    "            if staffnum < 1:\n",
    "                raise(ZeroStaff())\n",
    "            self.address  = address\n",
    "            self.area     = area\n",
    "            self.revenue  = revenue\n",
    "            self.staffnum = staffnum\n",
    "        except ZeroStaff:\n",
    "            print(\"The number of staffs is invalid\")\n",
    "        else:\n",
    "            print(\"Succesfull\")            \n",
    "    def info(self):\n",
    "        print(\"Address: \", self.address, \"Area: \", self.area, \"Revenue: \", self.revenue, \"Number of staff: \", self.staffnum)\n",
    "        \n",
    "\n",
    "class DeliveryFnB(FnB):\n",
    "    def __init__(self,address, area, revenue, staffnum, delivery_channel):\n",
    "        FnB.__init__(self,address, area, revenue, staffnum)\n",
    "        self.delivery_channel=delivery_channel\n",
    "    def info(self):\n",
    "        FnB.info(self)\n",
    "        print(\"Delivery channel: \", self.delivery_channel)\n",
    "    \n",
    "    \n",
    "    \n"
   ]
  },
  {
   "cell_type": "code",
   "execution_count": 83,
   "metadata": {},
   "outputs": [
    {
     "name": "stdout",
     "output_type": "stream",
     "text": [
      "The number of staffs is invalid\n"
     ]
    }
   ],
   "source": [
    "t = FnB(\"145 Ponto road\", 145, 135000, 0)"
   ]
  }
 ],
 "metadata": {
  "kernelspec": {
   "display_name": "Python 3",
   "language": "python",
   "name": "python3"
  },
  "language_info": {
   "codemirror_mode": {
    "name": "ipython",
    "version": 3
   },
   "file_extension": ".py",
   "mimetype": "text/x-python",
   "name": "python",
   "nbconvert_exporter": "python",
   "pygments_lexer": "ipython3",
   "version": "3.7.3"
  }
 },
 "nbformat": 4,
 "nbformat_minor": 2
}
